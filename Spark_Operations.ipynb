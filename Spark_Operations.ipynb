{
 "cells": [
  {
   "cell_type": "code",
   "execution_count": 2,
   "metadata": {},
   "outputs": [],
   "source": [
    "from pyspark.sql import SparkSession"
   ]
  },
  {
   "cell_type": "code",
   "execution_count": 3,
   "metadata": {},
   "outputs": [],
   "source": [
    "spark = SparkSession.builder.appName(\"ops\").getOrCreate()"
   ]
  },
  {
   "cell_type": "code",
   "execution_count": 4,
   "metadata": {},
   "outputs": [],
   "source": [
    "df = spark.read.csv(\"Python-and-Spark-for-Big-Data-master/Spark_DataFrames/appl_stock.csv\", inferSchema=True, header=True)"
   ]
  },
  {
   "cell_type": "code",
   "execution_count": 6,
   "metadata": {},
   "outputs": [
    {
     "name": "stdout",
     "output_type": "stream",
     "text": [
      "root\n",
      " |-- Date: timestamp (nullable = true)\n",
      " |-- Open: double (nullable = true)\n",
      " |-- High: double (nullable = true)\n",
      " |-- Low: double (nullable = true)\n",
      " |-- Close: double (nullable = true)\n",
      " |-- Volume: integer (nullable = true)\n",
      " |-- Adj Close: double (nullable = true)\n",
      "\n"
     ]
    }
   ],
   "source": [
    "df.printSchema()"
   ]
  },
  {
   "cell_type": "code",
   "execution_count": 11,
   "metadata": {},
   "outputs": [
    {
     "data": {
      "text/plain": [
       "Row(Date=datetime.datetime(2010, 1, 4, 0, 0), Open=213.429998, High=214.499996, Low=212.38000099999996, Close=214.009998, Volume=123432400, Adj Close=27.727039)"
      ]
     },
     "execution_count": 11,
     "metadata": {},
     "output_type": "execute_result"
    }
   ],
   "source": [
    "df.head(5)[0]"
   ]
  },
  {
   "cell_type": "code",
   "execution_count": 21,
   "metadata": {},
   "outputs": [
    {
     "name": "stdout",
     "output_type": "stream",
     "text": [
      "+------------------+------------------+------------------+------------------+\n",
      "|              Open|              High|               Low|             Close|\n",
      "+------------------+------------------+------------------+------------------+\n",
      "|206.78000600000001|        207.499996|            197.16|            197.75|\n",
      "|        204.930004|        205.500004|        198.699995|        199.289995|\n",
      "|        201.079996|        202.199995|        190.250002|        192.060003|\n",
      "|192.36999699999998|             196.0|191.29999899999999|        194.729998|\n",
      "|        195.909998|        196.319994|193.37999299999998|        195.859997|\n",
      "|        195.169994|        200.200003|        194.420004|        199.229994|\n",
      "|        196.730003|        198.370001|        191.570005|        192.050003|\n",
      "|192.63000300000002|             196.0|        190.850002|        195.460001|\n",
      "|        195.690006|197.88000300000002|        193.999994|194.11999699999998|\n",
      "|        196.419996|        197.499994|        194.749998|196.19000400000002|\n",
      "|        195.889997|             196.6|            194.26|195.12000700000002|\n",
      "|        194.880001|        199.750006|194.05999599999998|        198.669994|\n",
      "|        199.999998|        201.330002|        195.709993|        197.059998|\n",
      "|         92.699997|         93.879997|             91.75|         93.699997|\n",
      "|         94.730003|         95.050003|             93.57|             94.25|\n",
      "|         94.129997|         94.760002|         93.470001|         93.860001|\n",
      "|         94.040001|         94.120003|         91.900002|         92.290001|\n",
      "|         92.199997|         92.440002|         90.879997|         91.279999|\n",
      "|         91.510002|             92.75|         91.449997|         92.199997|\n",
      "|         92.309998|         92.699997|         91.800003| 92.08000200000001|\n",
      "+------------------+------------------+------------------+------------------+\n",
      "only showing top 20 rows\n",
      "\n"
     ]
    }
   ],
   "source": [
    "#df.filter(\"Close < 200\").select([\"Open\", \"High\", \"Low\", \"Close\"]).show()\n",
    "df.filter(df['Close'] < 200).select([\"Open\", \"High\", \"Low\", \"Close\"]).show()"
   ]
  },
  {
   "cell_type": "code",
   "execution_count": 24,
   "metadata": {},
   "outputs": [
    {
     "name": "stdout",
     "output_type": "stream",
     "text": [
      "+------------------+----------+----------+----------+\n",
      "|              Open|      High|       Low|     Close|\n",
      "+------------------+----------+----------+----------+\n",
      "|206.78000600000001|207.499996|    197.16|    197.75|\n",
      "|        204.930004|205.500004|198.699995|199.289995|\n",
      "|        201.079996|202.199995|190.250002|192.060003|\n",
      "+------------------+----------+----------+----------+\n",
      "\n"
     ]
    }
   ],
   "source": [
    "df.filter((df['Close'] < 200) & (df['Open'] > 200)).select([\"Open\", \"High\", \"Low\", \"Close\"]).show()"
   ]
  },
  {
   "cell_type": "code",
   "execution_count": 27,
   "metadata": {},
   "outputs": [
    {
     "data": {
      "text/plain": [
       "[Row(Date=datetime.datetime(2010, 1, 22, 0, 0), Open=206.78000600000001, High=207.499996, Low=197.16, Close=197.75, Volume=220441900, Adj Close=25.620401)]"
      ]
     },
     "execution_count": 27,
     "metadata": {},
     "output_type": "execute_result"
    }
   ],
   "source": [
    "result = df.filter(df['Close'] == 197.75).collect() # This is what we do for computation, instead of show()\n",
    "result"
   ]
  },
  {
   "cell_type": "code",
   "execution_count": 28,
   "metadata": {},
   "outputs": [
    {
     "data": {
      "text/plain": [
       "Row(Date=datetime.datetime(2010, 1, 22, 0, 0), Open=206.78000600000001, High=207.499996, Low=197.16, Close=197.75, Volume=220441900, Adj Close=25.620401)"
      ]
     },
     "execution_count": 28,
     "metadata": {},
     "output_type": "execute_result"
    }
   ],
   "source": [
    "result[0] # Notice the difference between result and result[0]. List vs Object"
   ]
  },
  {
   "cell_type": "code",
   "execution_count": 30,
   "metadata": {},
   "outputs": [
    {
     "data": {
      "text/plain": [
       "Row(Date=datetime.datetime(2010, 1, 22, 0, 0), Open=206.78000600000001, High=207.499996, Low=197.16, Close=197.75, Volume=220441900, Adj Close=25.620401)"
      ]
     },
     "execution_count": 30,
     "metadata": {},
     "output_type": "execute_result"
    }
   ],
   "source": [
    "row = result[0]\n",
    "row"
   ]
  },
  {
   "cell_type": "code",
   "execution_count": 31,
   "metadata": {},
   "outputs": [
    {
     "data": {
      "text/plain": [
       "{'Date': datetime.datetime(2010, 1, 22, 0, 0),\n",
       " 'Open': 206.78000600000001,\n",
       " 'High': 207.499996,\n",
       " 'Low': 197.16,\n",
       " 'Close': 197.75,\n",
       " 'Volume': 220441900,\n",
       " 'Adj Close': 25.620401}"
      ]
     },
     "execution_count": 31,
     "metadata": {},
     "output_type": "execute_result"
    }
   ],
   "source": [
    "row.asDict() # Row Object as dictionary"
   ]
  },
  {
   "cell_type": "code",
   "execution_count": null,
   "metadata": {},
   "outputs": [],
   "source": []
  }
 ],
 "metadata": {
  "kernelspec": {
   "display_name": "Python 3",
   "language": "python",
   "name": "python3"
  },
  "language_info": {
   "codemirror_mode": {
    "name": "ipython",
    "version": 3
   },
   "file_extension": ".py",
   "mimetype": "text/x-python",
   "name": "python",
   "nbconvert_exporter": "python",
   "pygments_lexer": "ipython3",
   "version": "3.7.3"
  }
 },
 "nbformat": 4,
 "nbformat_minor": 2
}
